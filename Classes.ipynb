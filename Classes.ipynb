{
 "cells": [
  {
   "cell_type": "markdown",
   "metadata": {},
   "source": [
    "# Classes"
   ]
  },
  {
   "cell_type": "markdown",
   "metadata": {},
   "source": [
    "Classes in Python are like JavaScript objects"
   ]
  },
  {
   "cell_type": "code",
   "execution_count": 1,
   "metadata": {
    "collapsed": true
   },
   "outputs": [],
   "source": [
    "class ClassName:\n",
    "    def __init__(self, var):\n",
    "        self.var = var"
   ]
  },
  {
   "cell_type": "markdown",
   "metadata": {},
   "source": [
    "__init__ is the same as an object constructer, taking in inputs (always self) and other parameters that are required when making a new instance of this class. It is automatically called when new instance is created"
   ]
  },
  {
   "cell_type": "code",
   "execution_count": 3,
   "metadata": {
    "collapsed": true
   },
   "outputs": [],
   "source": [
    "x = ClassName(10)"
   ]
  },
  {
   "cell_type": "markdown",
   "metadata": {},
   "source": [
    "This creates a new instance of the class, initializing it with a var of 10"
   ]
  },
  {
   "cell_type": "code",
   "execution_count": 4,
   "metadata": {
    "collapsed": false
   },
   "outputs": [
    {
     "data": {
      "text/plain": [
       "10"
      ]
     },
     "execution_count": 4,
     "metadata": {},
     "output_type": "execute_result"
    }
   ],
   "source": [
    "x.var"
   ]
  },
  {
   "cell_type": "markdown",
   "metadata": {},
   "source": [
    "This returns the var variable in the __init__ function, or rather referred to as an object."
   ]
  },
  {
   "cell_type": "code",
   "execution_count": 6,
   "metadata": {
    "collapsed": false
   },
   "outputs": [],
   "source": [
    "class Dog:\n",
    "    def __init__(self, breed, name):\n",
    "        self.breed = breed\n",
    "        self.name = name\n",
    "    def age(self, age):\n",
    "        self.age = age"
   ]
  },
  {
   "cell_type": "markdown",
   "metadata": {},
   "source": [
    "This class has a different object function other than the normal __init__, and needs to be called on its own. Also, since the function is the one define self.age, you need to call this function before self.age exists."
   ]
  },
  {
   "cell_type": "code",
   "execution_count": 8,
   "metadata": {
    "collapsed": false
   },
   "outputs": [
    {
     "name": "stdout",
     "output_type": "stream",
     "text": [
      "<bound method Dog.age of <__main__.Dog object at 0x10eabcda0>>\n"
     ]
    }
   ],
   "source": [
    "doggo = Dog(\"Golden Retriever\", \"Buddy\")\n",
    "print(doggo.age)"
   ]
  },
  {
   "cell_type": "code",
   "execution_count": 9,
   "metadata": {
    "collapsed": false
   },
   "outputs": [
    {
     "name": "stdout",
     "output_type": "stream",
     "text": [
      "5\n"
     ]
    }
   ],
   "source": [
    "doggo.age(5)\n",
    "print(doggo.age)"
   ]
  },
  {
   "cell_type": "markdown",
   "metadata": {
    "collapsed": true
   },
   "source": [
    "This shows that you need to call the object function in the class before certain variables are defined. "
   ]
  },
  {
   "cell_type": "markdown",
   "metadata": {},
   "source": [
    "self.var can be overridden by other object functions in the class. For example:"
   ]
  },
  {
   "cell_type": "code",
   "execution_count": 2,
   "metadata": {
    "collapsed": false
   },
   "outputs": [],
   "source": [
    "class Employees:\n",
    "    def __init__(self, name, job, company):\n",
    "        self.name = name\n",
    "        self.job = job\n",
    "        self.company = company\n",
    "    def switch_job(self, new_job):\n",
    "        self.job = new_job\n",
    "    def switch_company(self, new_company):\n",
    "        self.company = new_company"
   ]
  },
  {
   "cell_type": "code",
   "execution_count": 3,
   "metadata": {
    "collapsed": false
   },
   "outputs": [
    {
     "name": "stdout",
     "output_type": "stream",
     "text": [
      "Manager\n",
      "Grocery Shop Inc.\n"
     ]
    }
   ],
   "source": [
    "jeff = Employees(\"Jeff\", \"Manager\", \"Grocery Shop Inc.\")\n",
    "print(jeff.job)\n",
    "print(jeff.company)"
   ]
  },
  {
   "cell_type": "code",
   "execution_count": 4,
   "metadata": {
    "collapsed": false
   },
   "outputs": [
    {
     "name": "stdout",
     "output_type": "stream",
     "text": [
      "CEO\n",
      "Buy Hair Gel Co.\n"
     ]
    }
   ],
   "source": [
    "jeff.switch_job(\"CEO\")\n",
    "jeff.switch_company(\"Buy Hair Gel Co.\")\n",
    "print(jeff.job)\n",
    "print(jeff.company)"
   ]
  },
  {
   "cell_type": "markdown",
   "metadata": {},
   "source": [
    "See? Now, let's put this to use:"
   ]
  },
  {
   "cell_type": "code",
   "execution_count": 14,
   "metadata": {
    "collapsed": false
   },
   "outputs": [],
   "source": [
    "class Student:\n",
    "    def __init__(self, name, scoreset):\n",
    "        self.name = name\n",
    "        self.score = scoreset\n",
    "    def average(self):\n",
    "        i = 0\n",
    "        for j in self.score:\n",
    "            i += j\n",
    "        return i / len(self.score)"
   ]
  },
  {
   "cell_type": "code",
   "execution_count": 18,
   "metadata": {
    "collapsed": false
   },
   "outputs": [
    {
     "name": "stdout",
     "output_type": "stream",
     "text": [
      "0.976\n"
     ]
    }
   ],
   "source": [
    "steve = Student(\"Steve\", [.99, 1, .89, 1, 1])\n",
    "print(steve.average())"
   ]
  },
  {
   "cell_type": "markdown",
   "metadata": {},
   "source": [
    "This creates a student and gives them their scores, the average object function averaging the scores"
   ]
  },
  {
   "cell_type": "code",
   "execution_count": 13,
   "metadata": {
    "collapsed": false
   },
   "outputs": [],
   "source": [
    "def average(classroom):\n",
    "    i = 0\n",
    "    for j in classroom:\n",
    "        i += j.average()\n",
    "    return i / len(classroom)"
   ]
  },
  {
   "cell_type": "markdown",
   "metadata": {},
   "source": [
    "This takes the average of an entire class based on each individual's average"
   ]
  },
  {
   "cell_type": "code",
   "execution_count": 16,
   "metadata": {
    "collapsed": false
   },
   "outputs": [
    {
     "name": "stdout",
     "output_type": "stream",
     "text": [
      "0.8739999999999999\n"
     ]
    }
   ],
   "source": [
    "adam = Student(\"Adam\", [49 / 50, 20 / 20, 45 / 50, 16 / 20, 95 / 100])\n",
    "eve = Student(\"Eve\", [43 / 50, 19 / 20, 50 / 50, 18 / 20, 93 / 100])\n",
    "karl = Student(\"Karl\", [36 / 50, 16 / 20, 41 / 50, 19 / 20, 100/ 100])\n",
    "bob = Student(\"Bob\", [40 / 50, 10 / 20, 45 / 50, 15 / 20, 97 / 100])\n",
    "msLus = [adam, eve, karl, bob]\n",
    "print(average(msLus))"
   ]
  },
  {
   "cell_type": "markdown",
   "metadata": {},
   "source": [
    "This average seems correct, so I am not going to check it myself."
   ]
  },
  {
   "cell_type": "markdown",
   "metadata": {},
   "source": [
    "# So there you go, Classes in Python"
   ]
  }
 ],
 "metadata": {
  "kernelspec": {
   "display_name": "Python 3",
   "language": "python",
   "name": "python3"
  },
  "language_info": {
   "codemirror_mode": {
    "name": "ipython",
    "version": 3
   },
   "file_extension": ".py",
   "mimetype": "text/x-python",
   "name": "python",
   "nbconvert_exporter": "python",
   "pygments_lexer": "ipython3",
   "version": "3.6.0"
  }
 },
 "nbformat": 4,
 "nbformat_minor": 2
}
